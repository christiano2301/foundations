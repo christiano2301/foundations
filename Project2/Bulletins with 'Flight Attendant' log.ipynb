{
 "cells": [
  {
   "cell_type": "code",
   "execution_count": 5,
   "metadata": {},
   "outputs": [
    {
     "name": "stdout",
     "output_type": "stream",
     "text": [
      "FOIA2.pdf                    Untitled.ipynb\r\n",
      "FOIA_Request_2015-006985.pdf\r\n"
     ]
    }
   ],
   "source": [
    "!ls"
   ]
  },
  {
   "cell_type": "code",
   "execution_count": 6,
   "metadata": {
    "collapsed": true
   },
   "outputs": [],
   "source": [
    "import pdfquery"
   ]
  },
  {
   "cell_type": "code",
   "execution_count": 7,
   "metadata": {},
   "outputs": [],
   "source": [
    "pdf = pdfquery.PDFQuery(\"FOIA2.pdf\")\n",
    "pdf.load()"
   ]
  },
  {
   "cell_type": "code",
   "execution_count": 8,
   "metadata": {},
   "outputs": [
    {
     "data": {
      "text/plain": [
       "{'Unnamed0': 'Environment Incidents below. (ASW ROC 12/31 Fischetti/Tuttle) NITED KINGDOM REGISTERED VPBJD, GULFSTREAM GLF5, CLIMBED 500 FEET ABOVE ASSIGNED ALTITUDE OF FL230 CONFLICTING WITH N424XT, DASSAULT FA20, 18 W DENVER, CO 12/20 1357M. Closest proximity 700 feet vertical, 3.57 miles lateral. (ANM ROC 12/31 Hagans)',\n",
       " 'Unnamed1': 'reported. (ASW ROC 12/31 Fischetti/Tuttle) RAZIL REGISTERED PPMDB, CESSNA C560, FAILED TO MAINTAIN TWO WAY COMMUNICATION AT FL430 156 WNW SAN JUAN, PR 12/28 1153L. No conflicts',\n",
       " 'Unnamed2': '7,000 FEET CONFLICTING WITH AMERICAN 230, B738, 7 NE MIAMI, FL 12/28 2205E. Closest proximity 400 feet vertical, 2.61 miles lateral. (ASO ROC 12/31 Cusack) 377GS, CESSNA C525, FAILED TO FLY ASSIGNED DEPARTURE ROUTE AND ENTERED 11,000 FEET MVA AREA AT 8,400 FEET 14 NW LAS VEGAS, NV 12/29 0900P. No conflicts reported. (AWP ROC 12/31 Hagans) ALON 39, CESSNA C208, FAILED TO MAINTAIN TWO WAY COMMUNICATION'}"
      ]
     },
     "execution_count": 8,
     "metadata": {},
     "output_type": "execute_result"
    }
   ],
   "source": [
    "pdf = pdfquery.PDFQuery('FOIA2.pdf')\n",
    "\n",
    "pdf.extract([\n",
    "('with_formatter', 'text'),\n",
    "('Unnamed0', 'LTPage[pageid=\\'1\\'] LTTextLineHorizontal:overlaps_bbox(\"74,588,524,650\")'),\n",
    "('Unnamed1', 'LTPage[pageid=\\'1\\'] LTTextLineHorizontal:overlaps_bbox(\"76,433,528,477\")'),\n",
    "('Unnamed2', 'LTPage[pageid=\\'1\\'] LTTextLineHorizontal:overlaps_bbox(\"73,185,517,289\")')\n",
    "])"
   ]
  }
 ],
 "metadata": {
  "kernelspec": {
   "display_name": "Python 3",
   "language": "python",
   "name": "python3"
  },
  "language_info": {
   "codemirror_mode": {
    "name": "ipython",
    "version": 3
   },
   "file_extension": ".py",
   "mimetype": "text/x-python",
   "name": "python",
   "nbconvert_exporter": "python",
   "pygments_lexer": "ipython3",
   "version": "3.6.1"
  }
 },
 "nbformat": 4,
 "nbformat_minor": 2
}
