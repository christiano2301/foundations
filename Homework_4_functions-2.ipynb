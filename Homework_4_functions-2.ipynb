{
 "cells": [
  {
   "cell_type": "markdown",
   "metadata": {},
   "source": [
    "## homework 4: part two: investigating lists and dictionaries using functions\n",
    "\n",
    "In this assignment I will ask you to pick five relatively short texts (poems, paragraphs, short essays, song lyrics, whatever interests you). The main thing is to make sure that each text is around 10 - 20 lines or sentences long. Below, I have selected five poems by Wallace Stevens. In each cell I have made a variable that contains each poem, and then I pass that poem through a function called `text_to_dict` that makes a dictionary for each poem. The dictionary contains the title of the poem, the full text as one string, and a list that contains each line of the poem. The function will also make lists of sentences instead of lines if you want to investigate a prose text (sentence by sentence) instead of a poem (line by line).\n",
    "\n",
    "There are two parts of this assignment. \n",
    "\n",
    "**Part 1**, which should be easy, is to replace the poems with texts of your own choice--and choose to split them by lines or sentences. \n",
    "\n",
    "**Part 2** is to write functions that and investigate your texts. If you want to focus on the functions first, you can go straight to Part 2 and use the pomes I have chosen. You can then go back and enter your own texts--your functions should work no matter what text you've chosen.\n"
   ]
  },
  {
   "cell_type": "code",
   "execution_count": 1,
   "metadata": {
    "collapsed": true
   },
   "outputs": [],
   "source": [
    "#Run this cell toImport regular expressions\n",
    "#And to initialize the all texts list that will contain all of your dictionaries of text\n",
    "import re\n",
    "all_texts = []"
   ]
  },
  {
   "cell_type": "markdown",
   "metadata": {},
   "source": [
    "** understanding the text_to_dict function**\n",
    "\n",
    "You don't have to completely understand this function to use it, but you do need to understand its parameters. It takes three parameters:\n",
    "* `title` is a string you need to write inside function's parameters\n",
    "* `text` is the variable that holds the entire text\n",
    "* `poem` True/False parameter --if it is true it will split your text by line (`\\n`) \n",
    " \tIf it is false it will split your text by sentence ('[.?!])\n",
    "\n",
    "If you look at the function you will see that it builds a dictionary with the following fields:\n",
    "* `title` is the title of the text\n",
    "* `text_as_string` is the full text as a string\n",
    "* `lines` is a list of lines or sentences\n",
    "\n",
    "It returns a dictionary with those fields."
   ]
  },
  {
   "cell_type": "code",
   "execution_count": 2,
   "metadata": {
    "collapsed": true
   },
   "outputs": [],
   "source": [
    "def text_to_dict(title,text,poem):\n",
    "    dict_of_this_text = {}\n",
    "    dict_of_this_text['title'] = title\n",
    "    dict_of_this_text['text_as_string'] = text\n",
    "    if poem:\n",
    "        text_to_list = text.strip().split('\\n')\n",
    "    else:\n",
    "        text_to_list = re.split(r\"[.?!]\",text)\n",
    "    dict_of_this_text['lines'] = text_to_list\n",
    "    return dict_of_this_text"
   ]
  },
  {
   "cell_type": "markdown",
   "metadata": {},
   "source": [
    "## Part One\n",
    "\n",
    "The next five cells are exactly the same. They define five different texts, and then they pass each text through the `text_to_dict` function. And then they add the resulting dictionary to the all_texts list. \n",
    "\n",
    "In the five cells below enter your five selected texts.\n",
    "\n",
    "**You should do no coding at any point** until the very last cell before part two."
   ]
  },
  {
   "cell_type": "code",
   "execution_count": 3,
   "metadata": {
    "collapsed": true
   },
   "outputs": [],
   "source": [
    "#To change the text, just put a new text between the quotation mark\n",
    "text0 = '''\n",
    "I thought I shook myself free \n",
    "You see I bounce back quicker than most \n",
    "But I'm half delirious, Is too mysterious \n",
    "You walk through my walls like a ghost \n",
    "And I take everyday at a time \n",
    "I'm as proud as a Lion in his Lair \n",
    "Now there's no denying it, a note to crying it \n",
    "Your all tangled up in my head\n",
    "Old habits die hard \n",
    "Old soldiers just fade away \n",
    "Old habits die hard \n",
    "Harder than November rain \n",
    "Old habits die hard \n",
    "Old soldiers just fade away \n",
    "Old habits die hard \n",
    "Hard enough to feel the pain\n",
    "'''\n",
    "#Remember: you need to type the title into the first parameter\n",
    "#If you want to split by line choose True for the third parameter\n",
    "#If you want to split by sentence, choose False\n",
    "transform_it = text_to_dict(\"Old Habits Die Hard\",text0,True)\n",
    "all_texts.append(transform_it)"
   ]
  },
  {
   "cell_type": "code",
   "execution_count": 4,
   "metadata": {
    "collapsed": true
   },
   "outputs": [],
   "source": [
    "text1 = '''\n",
    "Every time when I look in the mirror\n",
    "All these lines on my face getting clearer\n",
    "The past is gone\n",
    "It went by, like dusk to dawn\n",
    "Isn't that the way\n",
    "Everybody's got the dues in life to pay\n",
    "I know nobody knows\n",
    "Where it comes and where it goes\n",
    "I know it's everybody sin\n",
    "You got to lose to know how to win\n",
    "Half my life\n",
    "Is books written pages\n",
    "Live and learn from fools and\n",
    "From sages\n",
    "You know it's true, oh\n",
    "All these things you do come back to you\n",
    "Sing with me, sing for the years\n",
    "Sing for the laughter, sing for the tears\n",
    "Sing with me, just for today\n",
    "Maybe tomorrow, the good lord will take you away\n",
    "'''\n",
    "transform_it = text_to_dict(\"Dream On\",text1,True)\n",
    "all_texts.append(transform_it)"
   ]
  },
  {
   "cell_type": "code",
   "execution_count": 5,
   "metadata": {
    "collapsed": true
   },
   "outputs": [],
   "source": [
    "text2 = '''\n",
    "I don't care if Monday's blue\n",
    "Tuesday's gray and Wednesday too\n",
    "Thursday I don't care about you\n",
    "It's Friday I'm in love\n",
    "Monday you can fall apart\n",
    "Tuesday Wednesday break my heart\n",
    "Oh, Thursday doesn't even start\n",
    "It's Friday I'm in love\n",
    "Saturday wait\n",
    "And Sunday always comes too late\n",
    "But Friday never hesitate\n",
    "I don't care if Monday's black\n",
    "Tuesday, Wednesday heart attack\n",
    "Thursday never looking back\n",
    "It's Friday I'm in love\n",
    "'''\n",
    "transform_it = text_to_dict(\"Friday I'm In Love\",text2,True)\n",
    "all_texts.append(transform_it)"
   ]
  },
  {
   "cell_type": "code",
   "execution_count": 6,
   "metadata": {},
   "outputs": [
    {
     "data": {
      "text/plain": [
       "'Dream On'"
      ]
     },
     "execution_count": 6,
     "metadata": {},
     "output_type": "execute_result"
    }
   ],
   "source": [
    "all_texts[1]['title']"
   ]
  },
  {
   "cell_type": "code",
   "execution_count": 7,
   "metadata": {
    "collapsed": true
   },
   "outputs": [],
   "source": [
    "text3 = '''\n",
    "When I look into your eyes\n",
    "I can see a love restrained\n",
    "But darlin' when I hold you\n",
    "Don't you know I feel the same\n",
    "Nothin' lasts forever\n",
    "And we both know hearts can change\n",
    "And it's hard to hold a candle\n",
    "In the cold November rain\n",
    "We've been through this such a long long time\n",
    "Just tryin' to kill the pain, oo yeah\n",
    "But love is always coming and love is always going\n",
    "And no one's really sure who's lettin' go today\n",
    "Walking away\n",
    "If we could take the time\n",
    "To lay it on the line\n",
    "I could rest my head\n",
    "Just knowin' that you were mine\n",
    "All mine\n",
    "So if you want to love me\n",
    "Then darlin' don't refrain\n",
    "Or I'll just end up walkin'\n",
    "In the cold November rain\n",
    "'''\n",
    "transform_it = text_to_dict(\"November Rain\",text3,True)\n",
    "all_texts.append(transform_it)"
   ]
  },
  {
   "cell_type": "code",
   "execution_count": 8,
   "metadata": {
    "collapsed": true
   },
   "outputs": [],
   "source": [
    "text4 = '''\n",
    "Life is bigger\n",
    "It's bigger\n",
    "And you, you are not me\n",
    "The lengths that I will go to\n",
    "The distance in your eyes\n",
    "Oh no, I've said too much\n",
    "I set it up\n",
    "That's me in the corner\n",
    "That's me in the spotlight\n",
    "Losing my religion\n",
    "Trying to keep up with you\n",
    "And I don't know if I can do it\n",
    "Oh no I've said too much\n",
    "I haven't said enough\n",
    "I thought that I heard you laughing\n",
    "I thought that I heard you sing\n",
    "I think I thought I saw you try\n",
    "'''\n",
    "transform_it = text_to_dict(\"Losing My Religion\",text4,True)\n",
    "all_texts.append(transform_it)"
   ]
  },
  {
   "cell_type": "markdown",
   "metadata": {},
   "source": [
    "Run the two cells below to confirm that first, you only have five texts in the all_texts list, and next, look at the all_texts list to see the dictionary inside it. "
   ]
  },
  {
   "cell_type": "code",
   "execution_count": 9,
   "metadata": {},
   "outputs": [
    {
     "data": {
      "text/plain": [
       "5"
      ]
     },
     "execution_count": 9,
     "metadata": {},
     "output_type": "execute_result"
    }
   ],
   "source": [
    "len(all_texts)"
   ]
  },
  {
   "cell_type": "code",
   "execution_count": 13,
   "metadata": {},
   "outputs": [
    {
     "data": {
      "text/plain": [
       "[{'lines': ['I thought I shook myself free\\xa0',\n",
       "   'You see I bounce back quicker than most\\xa0',\n",
       "   \"But I'm half delirious, Is too mysterious\\xa0\",\n",
       "   'You walk through my walls like a ghost\\xa0',\n",
       "   'And I take everyday at a time\\xa0',\n",
       "   \"I'm as proud as a Lion in his Lair\\xa0\",\n",
       "   \"Now there's no denying it, a note to crying it\\xa0\",\n",
       "   'Your all tangled up in my head',\n",
       "   'Old habits die hard\\xa0',\n",
       "   'Old soldiers just fade away\\xa0',\n",
       "   'Old habits die hard\\xa0',\n",
       "   'Harder than November rain\\xa0',\n",
       "   'Old habits die hard\\xa0',\n",
       "   'Old soldiers just fade away\\xa0',\n",
       "   'Old habits die hard\\xa0',\n",
       "   'Hard enough to feel the pain'],\n",
       "  'text_as_string': \"\\nI thought I shook myself free\\xa0\\nYou see I bounce back quicker than most\\xa0\\nBut I'm half delirious, Is too mysterious\\xa0\\nYou walk through my walls like a ghost\\xa0\\nAnd I take everyday at a time\\xa0\\nI'm as proud as a Lion in his Lair\\xa0\\nNow there's no denying it, a note to crying it\\xa0\\nYour all tangled up in my head\\nOld habits die hard\\xa0\\nOld soldiers just fade away\\xa0\\nOld habits die hard\\xa0\\nHarder than November rain\\xa0\\nOld habits die hard\\xa0\\nOld soldiers just fade away\\xa0\\nOld habits die hard\\xa0\\nHard enough to feel the pain\\n\",\n",
       "  'title': 'Old Habits Die Hard'},\n",
       " {'lines': ['Every time when I look in the mirror',\n",
       "   'All these lines on my face getting clearer',\n",
       "   'The past is gone',\n",
       "   'It went by, like dusk to dawn',\n",
       "   \"Isn't that the way\",\n",
       "   \"Everybody's got the dues in life to pay\",\n",
       "   'I know nobody knows',\n",
       "   'Where it comes and where it goes',\n",
       "   \"I know it's everybody sin\",\n",
       "   'You got to lose to know how to win',\n",
       "   'Half my life',\n",
       "   'Is books written pages',\n",
       "   'Live and learn from fools and',\n",
       "   'From sages',\n",
       "   \"You know it's true, oh\",\n",
       "   'All these things you do come back to you',\n",
       "   'Sing with me, sing for the years',\n",
       "   'Sing for the laughter, sing for the tears',\n",
       "   'Sing with me, just for today',\n",
       "   'Maybe tomorrow, the good lord will take you away'],\n",
       "  'text_as_string': \"\\nEvery time when I look in the mirror\\nAll these lines on my face getting clearer\\nThe past is gone\\nIt went by, like dusk to dawn\\nIsn't that the way\\nEverybody's got the dues in life to pay\\nI know nobody knows\\nWhere it comes and where it goes\\nI know it's everybody sin\\nYou got to lose to know how to win\\nHalf my life\\nIs books written pages\\nLive and learn from fools and\\nFrom sages\\nYou know it's true, oh\\nAll these things you do come back to you\\nSing with me, sing for the years\\nSing for the laughter, sing for the tears\\nSing with me, just for today\\nMaybe tomorrow, the good lord will take you away\\n\",\n",
       "  'title': 'Dream On'},\n",
       " {'lines': [\"I don't care if Monday's blue\",\n",
       "   \"Tuesday's gray and Wednesday too\",\n",
       "   \"Thursday I don't care about you\",\n",
       "   \"It's Friday I'm in love\",\n",
       "   'Monday you can fall apart',\n",
       "   'Tuesday Wednesday break my heart',\n",
       "   \"Oh, Thursday doesn't even start\",\n",
       "   \"It's Friday I'm in love\",\n",
       "   'Saturday wait',\n",
       "   'And Sunday always comes too late',\n",
       "   'But Friday never hesitate',\n",
       "   \"I don't care if Monday's black\",\n",
       "   'Tuesday, Wednesday heart attack',\n",
       "   'Thursday never looking back',\n",
       "   \"It's Friday I'm in love\"],\n",
       "  'text_as_string': \"\\nI don't care if Monday's blue\\nTuesday's gray and Wednesday too\\nThursday I don't care about you\\nIt's Friday I'm in love\\nMonday you can fall apart\\nTuesday Wednesday break my heart\\nOh, Thursday doesn't even start\\nIt's Friday I'm in love\\nSaturday wait\\nAnd Sunday always comes too late\\nBut Friday never hesitate\\nI don't care if Monday's black\\nTuesday, Wednesday heart attack\\nThursday never looking back\\nIt's Friday I'm in love\\n\",\n",
       "  'title': \"Friday I'm In Love\"},\n",
       " {'lines': ['When I look into your eyes',\n",
       "   'I can see a love restrained',\n",
       "   \"But darlin' when I hold you\",\n",
       "   \"Don't you know I feel the same\",\n",
       "   \"Nothin' lasts forever\",\n",
       "   'And we both know hearts can change',\n",
       "   \"And it's hard to hold a candle\",\n",
       "   'In the cold November rain',\n",
       "   \"We've been through this such a long long time\",\n",
       "   \"Just tryin' to kill the pain, oo yeah\",\n",
       "   'But love is always coming and love is always going',\n",
       "   \"And no one's really sure who's lettin' go today\",\n",
       "   'Walking away',\n",
       "   'If we could take the time',\n",
       "   'To lay it on the line',\n",
       "   'I could rest my head',\n",
       "   \"Just knowin' that you were mine\",\n",
       "   'All mine',\n",
       "   'So if you want to love me',\n",
       "   \"Then darlin' don't refrain\",\n",
       "   \"Or I'll just end up walkin'\",\n",
       "   'In the cold November rain'],\n",
       "  'text_as_string': \"\\nWhen I look into your eyes\\nI can see a love restrained\\nBut darlin' when I hold you\\nDon't you know I feel the same\\nNothin' lasts forever\\nAnd we both know hearts can change\\nAnd it's hard to hold a candle\\nIn the cold November rain\\nWe've been through this such a long long time\\nJust tryin' to kill the pain, oo yeah\\nBut love is always coming and love is always going\\nAnd no one's really sure who's lettin' go today\\nWalking away\\nIf we could take the time\\nTo lay it on the line\\nI could rest my head\\nJust knowin' that you were mine\\nAll mine\\nSo if you want to love me\\nThen darlin' don't refrain\\nOr I'll just end up walkin'\\nIn the cold November rain\\n\",\n",
       "  'title': 'November Rain'},\n",
       " {'lines': ['Life is bigger',\n",
       "   \"It's bigger\",\n",
       "   'And you, you are not me',\n",
       "   'The lengths that I will go to',\n",
       "   'The distance in your eyes',\n",
       "   \"Oh no, I've said too much\",\n",
       "   'I set it up',\n",
       "   \"That's me in the corner\",\n",
       "   \"That's me in the spotlight\",\n",
       "   'Losing my religion',\n",
       "   'Trying to keep up with you',\n",
       "   \"And I don't know if I can do it\",\n",
       "   \"Oh no I've said too much\",\n",
       "   \"I haven't said enough\",\n",
       "   'I thought that I heard you laughing',\n",
       "   'I thought that I heard you sing',\n",
       "   'I think I thought I saw you try'],\n",
       "  'text_as_string': \"\\nLife is bigger\\nIt's bigger\\nAnd you, you are not me\\nThe lengths that I will go to\\nThe distance in your eyes\\nOh no, I've said too much\\nI set it up\\nThat's me in the corner\\nThat's me in the spotlight\\nLosing my religion\\nTrying to keep up with you\\nAnd I don't know if I can do it\\nOh no I've said too much\\nI haven't said enough\\nI thought that I heard you laughing\\nI thought that I heard you sing\\nI think I thought I saw you try\\n\",\n",
       "  'title': 'Losing My Religion'}]"
      ]
     },
     "execution_count": 13,
     "metadata": {},
     "output_type": "execute_result"
    }
   ],
   "source": [
    "all_texts"
   ]
  },
  {
   "cell_type": "markdown",
   "metadata": {},
   "source": [
    "In the cell below, loop through all_texts and print out the title of each text. (This is the only code you need to write for Part One.)"
   ]
  },
  {
   "cell_type": "code",
   "execution_count": 10,
   "metadata": {},
   "outputs": [
    {
     "name": "stdout",
     "output_type": "stream",
     "text": [
      "-------\n",
      "Old Habits Die Hard\n",
      "-------\n",
      "Dream On\n",
      "-------\n",
      "Friday I'm In Love\n",
      "-------\n",
      "November Rain\n",
      "-------\n",
      "Losing My Religion\n"
     ]
    }
   ],
   "source": [
    "for songs in all_texts:\n",
    "    print(\"-------\")\n",
    "    print(songs['title'])"
   ]
  },
  {
   "cell_type": "markdown",
   "metadata": {},
   "source": [
    "## Part Two:  searching within lists and dictionaries\n",
    "In this part, we will be searching through each text and printing out a desired result. The searches, including loops and printing should all be defined in the function. The second cell should just have to function call that executes the function. I have written an example function and call for the first search. For each function that you write you should copy the original function and modify it so what does what I ask for.\n",
    "\n",
    "For the first five functions, there are no parameters passed to the functions--the calls will just execute the function. Go step-by-step and take your time."
   ]
  },
  {
   "cell_type": "code",
   "execution_count": 11,
   "metadata": {
    "collapsed": true
   },
   "outputs": [],
   "source": [
    "def get_lengths():\n",
    "    for text in all_texts:\n",
    "        print(text['title'])\n",
    "        print(len(text['text_as_string']))\n",
    "        print(\"------------\")"
   ]
  },
  {
   "cell_type": "code",
   "execution_count": 12,
   "metadata": {},
   "outputs": [
    {
     "name": "stdout",
     "output_type": "stream",
     "text": [
      "Old Habits Die Hard\n",
      "500\n",
      "------------\n",
      "Dream On\n",
      "595\n",
      "------------\n",
      "Friday I'm In Love\n",
      "423\n",
      "------------\n",
      "November Rain\n",
      "642\n",
      "------------\n",
      "Losing My Religion\n",
      "422\n",
      "------------\n"
     ]
    }
   ],
   "source": [
    "get_lengths()"
   ]
  },
  {
   "cell_type": "markdown",
   "metadata": {},
   "source": [
    "Question 1\n",
    "Now write a function that gets the **line count for each poem** (or sentence count for each piece of prose). This function is going to be very similar to the last one. Instead of accessing the whole text via text['text_as_string'] which is a string, you need to access the list of lines/sentences and get the length of that list. Everything else should be the same."
   ]
  },
  {
   "cell_type": "code",
   "execution_count": 13,
   "metadata": {
    "collapsed": true
   },
   "outputs": [],
   "source": [
    "def get_line_count():\n",
    "    for text in all_texts:\n",
    "        print(text['title'])\n",
    "        print(len(text['lines']))\n",
    "        print(\"------------\")"
   ]
  },
  {
   "cell_type": "code",
   "execution_count": 17,
   "metadata": {},
   "outputs": [
    {
     "name": "stdout",
     "output_type": "stream",
     "text": [
      "Old Habits Die Hard\n",
      "16\n",
      "------------\n",
      "Dream On\n",
      "20\n",
      "------------\n",
      "Friday I'm In Love\n",
      "15\n",
      "------------\n",
      "November Rain\n",
      "22\n",
      "------------\n",
      "Losing My Religion\n",
      "17\n",
      "------------\n"
     ]
    }
   ],
   "source": [
    "get_line_count()"
   ]
  },
  {
   "cell_type": "markdown",
   "metadata": {},
   "source": [
    "Question 2\n",
    "Now write a function that prints out a **random line or sentence from each text**. Again, this function will look much the same as the last ones, but instead of getting numbers you need to get actual lines. I have included the necessary import and an example of how to get random integers. Basically, for each text you need to get one element from the list of lines/ sentences with a random number between 0 and the length of the list."
   ]
  },
  {
   "cell_type": "code",
   "execution_count": 43,
   "metadata": {
    "collapsed": true
   },
   "outputs": [],
   "source": [
    "from random import randint\n",
    "def show_random_lines():\n",
    "    #random_num = randint(0, 5)\n",
    "    for text in all_texts:\n",
    "        random_num = randint(0, len(text['lines'])-1)\n",
    "        print(random_num)\n",
    "        print(text['lines'][random_num])"
   ]
  },
  {
   "cell_type": "code",
   "execution_count": 44,
   "metadata": {},
   "outputs": [
    {
     "name": "stdout",
     "output_type": "stream",
     "text": [
      "8\n",
      "Old habits die hard \n",
      "14\n",
      "You know it's true, oh\n",
      "5\n",
      "Tuesday Wednesday break my heart\n",
      "2\n",
      "But darlin' when I hold you\n",
      "13\n",
      "I haven't said enough\n"
     ]
    }
   ],
   "source": [
    "show_random_lines()"
   ]
  },
  {
   "cell_type": "markdown",
   "metadata": {},
   "source": [
    "Question 3\n",
    "This is a little bit different--instead of printing out something from each text, I want you to **print the entire text of the longest text**. Remember in the first function, I printed out the length of each text. Well, you need to test for the longest text as you look through and when you're done looping through print out the one that is longest.\n",
    "\n",
    "**Major hints!**: To do this you will need two **tracking variables** set before the loop runs: A numerical one that tracks the longest length (the number), and string variable remembers the actual text that has that length.\n",
    "\n",
    "Like this: longest_length = 0 and longest_text = \"\"\n",
    "\n",
    "When you loop through you need to test if each text was longer than the last one, and if it is longer--you update longest_length and longest_text to reflect the highest length, and the actual text. When the loop is over you then print out that longest_text string."
   ]
  },
  {
   "cell_type": "code",
   "execution_count": 87,
   "metadata": {},
   "outputs": [
    {
     "name": "stdout",
     "output_type": "stream",
     "text": [
      "['Every time when I look in the mirror', 'All these lines on my face getting clearer', 'The past is gone', 'It went by, like dusk to dawn', \"Isn't that the way\", \"Everybody's got the dues in life to pay\", 'I know nobody knows', 'Where it comes and where it goes', \"I know it's everybody sin\", 'You got to lose to know how to win', 'Half my life', 'Is books written pages', 'Live and learn from fools and', 'From sages', \"You know it's true, oh\", 'All these things you do come back to you', 'Sing with me, sing for the years', 'Sing for the laughter, sing for the tears', 'Sing with me, just for today', 'Maybe tomorrow, the good lord will take you away']\n",
      "['When I look into your eyes', 'I can see a love restrained', \"But darlin' when I hold you\", \"Don't you know I feel the same\", \"Nothin' lasts forever\", 'And we both know hearts can change', \"And it's hard to hold a candle\", 'In the cold November rain', \"We've been through this such a long long time\", \"Just tryin' to kill the pain, oo yeah\", 'But love is always coming and love is always going', \"And no one's really sure who's lettin' go today\", 'Walking away', 'If we could take the time', 'To lay it on the line', 'I could rest my head', \"Just knowin' that you were mine\", 'All mine', 'So if you want to love me', \"Then darlin' don't refrain\", \"Or I'll just end up walkin'\", 'In the cold November rain']\n"
     ]
    }
   ],
   "source": [
    "for text in all_texts:\n",
    "    if len(text['lines']) > 17:\n",
    "        print(text['lines'])"
   ]
  },
  {
   "cell_type": "code",
   "execution_count": 39,
   "metadata": {
    "collapsed": true
   },
   "outputs": [],
   "source": [
    "def longest_text():\n",
    "    longest_length = 0\n",
    "    long_text = \"\"\n",
    "    for text in all_texts: \n",
    "        if len(text['text_as_string']) > longest_length:\n",
    "            longest_length = len(text['text_as_string'])\n",
    "            long_text = text['text_as_string']\n",
    "    print(long_text)"
   ]
  },
  {
   "cell_type": "code",
   "execution_count": 40,
   "metadata": {},
   "outputs": [
    {
     "name": "stdout",
     "output_type": "stream",
     "text": [
      "\n",
      "When I look into your eyes\n",
      "I can see a love restrained\n",
      "But darlin' when I hold you\n",
      "Don't you know I feel the same\n",
      "Nothin' lasts forever\n",
      "And we both know hearts can change\n",
      "And it's hard to hold a candle\n",
      "In the cold November rain\n",
      "We've been through this such a long long time\n",
      "Just tryin' to kill the pain, oo yeah\n",
      "But love is always coming and love is always going\n",
      "And no one's really sure who's lettin' go today\n",
      "Walking away\n",
      "If we could take the time\n",
      "To lay it on the line\n",
      "I could rest my head\n",
      "Just knowin' that you were mine\n",
      "All mine\n",
      "So if you want to love me\n",
      "Then darlin' don't refrain\n",
      "Or I'll just end up walkin'\n",
      "In the cold November rain\n",
      "\n"
     ]
    }
   ],
   "source": [
    "longest_text()"
   ]
  },
  {
   "cell_type": "markdown",
   "metadata": {},
   "source": [
    "Question 4\n",
    "This is kind of a combination of the first two functions--write a function that gets the **average line/sentence length for each text**."
   ]
  },
  {
   "cell_type": "code",
   "execution_count": 62,
   "metadata": {
    "collapsed": true
   },
   "outputs": [],
   "source": [
    "def average_line_length():\n",
    "    for text in all_texts:\n",
    "        average = len(text['text_as_string']) / len(text['lines'])\n",
    "        print(average)"
   ]
  },
  {
   "cell_type": "code",
   "execution_count": 63,
   "metadata": {},
   "outputs": [
    {
     "name": "stdout",
     "output_type": "stream",
     "text": [
      "31.25\n",
      "29.75\n",
      "28.2\n",
      "29.181818181818183\n",
      "24.823529411764707\n"
     ]
    }
   ],
   "source": [
    "average_line_length()"
   ]
  },
  {
   "cell_type": "markdown",
   "metadata": {},
   "source": [
    "Question 5\n",
    "**Print the longest line/sentence in each text**. \n",
    "This is similar to question 3--but your two tracking variables (longest_length and longest_line) need to be placed right before the inside loop--and then you print the lines each time the inside loop ends."
   ]
  },
  {
   "cell_type": "code",
   "execution_count": 72,
   "metadata": {
    "collapsed": true
   },
   "outputs": [],
   "source": [
    "def longest_line_in_each():\n",
    "    for text in all_texts: \n",
    "        if all_texts[0]['lines'][1] > all_texts[0]['lines'][0]:\n",
    "            longest_line = all_texts[0]['lines'][1]\n",
    "    print(longest_line)"
   ]
  },
  {
   "cell_type": "code",
   "execution_count": 73,
   "metadata": {},
   "outputs": [
    {
     "name": "stdout",
     "output_type": "stream",
     "text": [
      "You see I bounce back quicker than most \n"
     ]
    }
   ],
   "source": [
    "longest_line_in_each()"
   ]
  },
  {
   "cell_type": "markdown",
   "metadata": {},
   "source": [
    "Question 6\n",
    "**Print the shortest single line/sentence out of all of the texts that is greater than zero**\n",
    "This is the tricky-ish: You need to place the tracking variables outside the loop (like question 4, but the loop through all of the lines, test for the shortest one (greater than 0)."
   ]
  },
  {
   "cell_type": "code",
   "execution_count": null,
   "metadata": {
    "collapsed": true
   },
   "outputs": [],
   "source": [
    "#Write your function here"
   ]
  },
  {
   "cell_type": "code",
   "execution_count": null,
   "metadata": {
    "collapsed": true
   },
   "outputs": [],
   "source": [
    "shortest_of_all_lines()"
   ]
  },
  {
   "cell_type": "markdown",
   "metadata": {},
   "source": [
    "## searching with regular expressions\n",
    "In the functions below you will search all the texts using regular expressions. The first few of these functions should not be too challenging--you just need to adjust the regular expression inside the function. At points it gets a little more complex as you have to control the looping through the lists and dictionaries."
   ]
  },
  {
   "cell_type": "code",
   "execution_count": 18,
   "metadata": {
    "collapsed": true
   },
   "outputs": [],
   "source": [
    "def get_this_word(word):\n",
    "    my_regex = r\"\\b\" + word + r\"\\b\"\n",
    "    for text in all_texts:\n",
    "        result = [line for line in text['lines'] if re.search(my_regex, line, re.IGNORECASE)]\n",
    "        if len(result) > 0:\n",
    "            print(text['title'])\n",
    "            [print(line) for line in result]\n",
    "            print(\"------------\")"
   ]
  },
  {
   "cell_type": "code",
   "execution_count": 75,
   "metadata": {},
   "outputs": [
    {
     "name": "stdout",
     "output_type": "stream",
     "text": [
      "Dream On\n",
      "Sing with me, sing for the years\n",
      "Sing with me, just for today\n",
      "------------\n",
      "November Rain\n",
      "So if you want to love me\n",
      "------------\n",
      "Losing My Religion\n",
      "And you, you are not me\n",
      "That's me in the corner\n",
      "That's me in the spotlight\n",
      "------------\n"
     ]
    }
   ],
   "source": [
    "get_this_word('me')"
   ]
  },
  {
   "cell_type": "markdown",
   "metadata": {},
   "source": [
    "Question 7\n",
    "Print out the lines that start with the word entered.  You just need to adjust the regular expression here."
   ]
  },
  {
   "cell_type": "code",
   "execution_count": 20,
   "metadata": {
    "collapsed": true
   },
   "outputs": [],
   "source": [
    "def line_starts_with(word):\n",
    "    my_regex = r\"^\\b\" + word + r\"\\b\"\n",
    "    for text in all_texts:\n",
    "        result = [line for line in text['lines'] if re.search(my_regex, line, re.IGNORECASE)]\n",
    "        if len(result) > 0:\n",
    "            print(text['title'])\n",
    "            [print(line) for line in result]\n",
    "            print(\"------------\")"
   ]
  },
  {
   "cell_type": "code",
   "execution_count": 21,
   "metadata": {},
   "outputs": [
    {
     "name": "stdout",
     "output_type": "stream",
     "text": [
      "Dream On\n",
      "The past is gone\n",
      "------------\n",
      "Losing My Religion\n",
      "The lengths that I will go to\n",
      "The distance in your eyes\n",
      "------------\n"
     ]
    }
   ],
   "source": [
    "line_starts_with('the')"
   ]
  },
  {
   "cell_type": "markdown",
   "metadata": {},
   "source": [
    "Question 8\n",
    "Print out the lines that end with the word entered.  You just need to adjust the regular expression here."
   ]
  },
  {
   "cell_type": "code",
   "execution_count": 23,
   "metadata": {
    "collapsed": true
   },
   "outputs": [],
   "source": [
    "def line_ends_with(word):\n",
    "    my_regex = r\"\\b\" + word + r\"$\\b\"\n",
    "    for text in all_texts:\n",
    "        result = [line for line in text['lines'] if re.search(my_regex, line, re.IGNORECASE)]\n",
    "        if len(result) > 0:\n",
    "            print(text['title'])\n",
    "            [print(line) for line in result]\n",
    "            print(\"------------\")"
   ]
  },
  {
   "cell_type": "code",
   "execution_count": 24,
   "metadata": {},
   "outputs": [
    {
     "name": "stdout",
     "output_type": "stream",
     "text": [
      "Dream On\n",
      "The past is gone\n",
      "------------\n"
     ]
    }
   ],
   "source": [
    "line_ends_with('gone')"
   ]
  },
  {
   "cell_type": "markdown",
   "metadata": {},
   "source": [
    "Question 9\n",
    "Print out **how many times the word was found in each text.** In this case, instead of the list comprehension, you want to run a re.findall() on the string of the text (not the list) and then count the number of elements in the list of results.\n",
    "\n",
    "Hint: use the original function at the beginning of this section, and make the proper adjustments to the variable \"result\""
   ]
  },
  {
   "cell_type": "code",
   "execution_count": 102,
   "metadata": {
    "collapsed": true
   },
   "outputs": [],
   "source": [
    "def how_many_times(word):\n",
    "    my_regex = r\"\\b\" + word + r\"\\b\"\n",
    "    for text in all_texts:\n",
    "        result = re.findall(my_regex, text['text_as_string'], re.IGNORECASE)\n",
    "        if result:\n",
    "            print(text['title'])\n",
    "            print(len(result))"
   ]
  },
  {
   "cell_type": "code",
   "execution_count": 103,
   "metadata": {},
   "outputs": [
    {
     "name": "stdout",
     "output_type": "stream",
     "text": [
      "Friday I'm In Love\n",
      "3\n",
      "November Rain\n",
      "4\n"
     ]
    }
   ],
   "source": [
    "how_many_times('love')"
   ]
  },
  {
   "cell_type": "markdown",
   "metadata": {},
   "source": [
    "Question 10\n",
    "Print out **the text that has the highest occurrence of the word** you searched for. This is similar to the last function, but here you need tracking variables like you had in Question 3.\n"
   ]
  },
  {
   "cell_type": "code",
   "execution_count": null,
   "metadata": {
    "collapsed": true
   },
   "outputs": [],
   "source": [
    "#Write your function here"
   ]
  },
  {
   "cell_type": "code",
   "execution_count": null,
   "metadata": {
    "collapsed": true
   },
   "outputs": [],
   "source": [
    "text_with_most_occurance_of('word')"
   ]
  },
  {
   "cell_type": "markdown",
   "metadata": {},
   "source": [
    "Question 11\n",
    "Print out **lines containing words of the length asked**. We are sort of back to basics here, you just need to modify the regular expression of the first function (get_this_word(word)) so that it can take a number parameter for the length of characters in a word."
   ]
  },
  {
   "cell_type": "code",
   "execution_count": null,
   "metadata": {
    "collapsed": true
   },
   "outputs": [],
   "source": [
    "#Write your function here"
   ]
  },
  {
   "cell_type": "code",
   "execution_count": null,
   "metadata": {
    "collapsed": true
   },
   "outputs": [],
   "source": [
    "lines_with_words_this_length('10')"
   ]
  },
  {
   "cell_type": "markdown",
   "metadata": {
    "collapsed": true
   },
   "source": [
    "**Final question:** in this cell, describe two functions that you would like to write, not ones that you're able to write, but ones you think would be useful or interesting or fun."
   ]
  },
  {
   "cell_type": "code",
   "execution_count": null,
   "metadata": {
    "collapsed": true
   },
   "outputs": [],
   "source": []
  }
 ],
 "metadata": {
  "kernelspec": {
   "display_name": "Python 3",
   "language": "python",
   "name": "python3"
  },
  "language_info": {
   "codemirror_mode": {
    "name": "ipython",
    "version": 3
   },
   "file_extension": ".py",
   "mimetype": "text/x-python",
   "name": "python",
   "nbconvert_exporter": "python",
   "pygments_lexer": "ipython3",
   "version": "3.6.1"
  }
 },
 "nbformat": 4,
 "nbformat_minor": 2
}
