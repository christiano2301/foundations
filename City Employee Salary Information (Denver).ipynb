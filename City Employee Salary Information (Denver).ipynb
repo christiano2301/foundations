{
 "cells": [
  {
   "cell_type": "code",
   "execution_count": 1,
   "metadata": {
    "collapsed": true
   },
   "outputs": [],
   "source": [
    "import pandas as pd"
   ]
  },
  {
   "cell_type": "code",
   "execution_count": 10,
   "metadata": {
    "collapsed": true
   },
   "outputs": [],
   "source": [
    "df = pd.read_csv(\"tabula-cora.csv\", header=None)"
   ]
  },
  {
   "cell_type": "code",
   "execution_count": 11,
   "metadata": {},
   "outputs": [
    {
     "data": {
      "text/html": [
       "<div>\n",
       "<style>\n",
       "    .dataframe thead tr:only-child th {\n",
       "        text-align: right;\n",
       "    }\n",
       "\n",
       "    .dataframe thead th {\n",
       "        text-align: left;\n",
       "    }\n",
       "\n",
       "    .dataframe tbody tr th {\n",
       "        vertical-align: top;\n",
       "    }\n",
       "</style>\n",
       "<table border=\"1\" class=\"dataframe\">\n",
       "  <thead>\n",
       "    <tr style=\"text-align: right;\">\n",
       "      <th></th>\n",
       "      <th>0</th>\n",
       "      <th>1</th>\n",
       "      <th>2</th>\n",
       "      <th>3</th>\n",
       "    </tr>\n",
       "  </thead>\n",
       "  <tbody>\n",
       "    <tr>\n",
       "      <th>0</th>\n",
       "      <td>Blick,Brian</td>\n",
       "      <td>Administrator II</td>\n",
       "      <td>911 Emergency Communications</td>\n",
       "      <td>81,878.64</td>\n",
       "    </tr>\n",
       "    <tr>\n",
       "      <th>1</th>\n",
       "      <td>Bodine,Andrew</td>\n",
       "      <td>Agency Trainer</td>\n",
       "      <td>911 Emergency Communications</td>\n",
       "      <td>66,791.38</td>\n",
       "    </tr>\n",
       "    <tr>\n",
       "      <th>2</th>\n",
       "      <td>Kleber,Bret</td>\n",
       "      <td>Agency Trainer</td>\n",
       "      <td>911 Emergency Communications</td>\n",
       "      <td>60,237.43</td>\n",
       "    </tr>\n",
       "    <tr>\n",
       "      <th>3</th>\n",
       "      <td>Rothenberger,Helena</td>\n",
       "      <td>Agency Trainer</td>\n",
       "      <td>911 Emergency Communications</td>\n",
       "      <td>65,324.76</td>\n",
       "    </tr>\n",
       "    <tr>\n",
       "      <th>4</th>\n",
       "      <td>Carroll,Suzanne</td>\n",
       "      <td>Agency Training Supv</td>\n",
       "      <td>911 Emergency Communications</td>\n",
       "      <td>79,495.23</td>\n",
       "    </tr>\n",
       "  </tbody>\n",
       "</table>\n",
       "</div>"
      ],
      "text/plain": [
       "                     0                     1                             2  \\\n",
       "0          Blick,Brian      Administrator II  911 Emergency Communications   \n",
       "1        Bodine,Andrew        Agency Trainer  911 Emergency Communications   \n",
       "2          Kleber,Bret        Agency Trainer  911 Emergency Communications   \n",
       "3  Rothenberger,Helena        Agency Trainer  911 Emergency Communications   \n",
       "4      Carroll,Suzanne  Agency Training Supv  911 Emergency Communications   \n",
       "\n",
       "           3  \n",
       "0  81,878.64  \n",
       "1  66,791.38  \n",
       "2  60,237.43  \n",
       "3  65,324.76  \n",
       "4  79,495.23  "
      ]
     },
     "execution_count": 11,
     "metadata": {},
     "output_type": "execute_result"
    }
   ],
   "source": [
    "df.head()"
   ]
  },
  {
   "cell_type": "code",
   "execution_count": 12,
   "metadata": {
    "collapsed": true
   },
   "outputs": [],
   "source": [
    "df = df.rename(columns={0: 'Name'})\n",
    "df = df.rename(columns={1: 'Position'})\n",
    "df = df.rename(columns={2: 'Department'})\n",
    "df = df.rename(columns={3: 'Salary'})"
   ]
  },
  {
   "cell_type": "code",
   "execution_count": 13,
   "metadata": {},
   "outputs": [
    {
     "data": {
      "text/html": [
       "<div>\n",
       "<style>\n",
       "    .dataframe thead tr:only-child th {\n",
       "        text-align: right;\n",
       "    }\n",
       "\n",
       "    .dataframe thead th {\n",
       "        text-align: left;\n",
       "    }\n",
       "\n",
       "    .dataframe tbody tr th {\n",
       "        vertical-align: top;\n",
       "    }\n",
       "</style>\n",
       "<table border=\"1\" class=\"dataframe\">\n",
       "  <thead>\n",
       "    <tr style=\"text-align: right;\">\n",
       "      <th></th>\n",
       "      <th>Name</th>\n",
       "      <th>Position</th>\n",
       "      <th>Department</th>\n",
       "      <th>Salary</th>\n",
       "    </tr>\n",
       "  </thead>\n",
       "  <tbody>\n",
       "    <tr>\n",
       "      <th>0</th>\n",
       "      <td>Blick,Brian</td>\n",
       "      <td>Administrator II</td>\n",
       "      <td>911 Emergency Communications</td>\n",
       "      <td>81,878.64</td>\n",
       "    </tr>\n",
       "    <tr>\n",
       "      <th>1</th>\n",
       "      <td>Bodine,Andrew</td>\n",
       "      <td>Agency Trainer</td>\n",
       "      <td>911 Emergency Communications</td>\n",
       "      <td>66,791.38</td>\n",
       "    </tr>\n",
       "    <tr>\n",
       "      <th>2</th>\n",
       "      <td>Kleber,Bret</td>\n",
       "      <td>Agency Trainer</td>\n",
       "      <td>911 Emergency Communications</td>\n",
       "      <td>60,237.43</td>\n",
       "    </tr>\n",
       "    <tr>\n",
       "      <th>3</th>\n",
       "      <td>Rothenberger,Helena</td>\n",
       "      <td>Agency Trainer</td>\n",
       "      <td>911 Emergency Communications</td>\n",
       "      <td>65,324.76</td>\n",
       "    </tr>\n",
       "    <tr>\n",
       "      <th>4</th>\n",
       "      <td>Carroll,Suzanne</td>\n",
       "      <td>Agency Training Supv</td>\n",
       "      <td>911 Emergency Communications</td>\n",
       "      <td>79,495.23</td>\n",
       "    </tr>\n",
       "  </tbody>\n",
       "</table>\n",
       "</div>"
      ],
      "text/plain": [
       "                  Name              Position                    Department  \\\n",
       "0          Blick,Brian      Administrator II  911 Emergency Communications   \n",
       "1        Bodine,Andrew        Agency Trainer  911 Emergency Communications   \n",
       "2          Kleber,Bret        Agency Trainer  911 Emergency Communications   \n",
       "3  Rothenberger,Helena        Agency Trainer  911 Emergency Communications   \n",
       "4      Carroll,Suzanne  Agency Training Supv  911 Emergency Communications   \n",
       "\n",
       "      Salary  \n",
       "0  81,878.64  \n",
       "1  66,791.38  \n",
       "2  60,237.43  \n",
       "3  65,324.76  \n",
       "4  79,495.23  "
      ]
     },
     "execution_count": 13,
     "metadata": {},
     "output_type": "execute_result"
    }
   ],
   "source": [
    "df.head()"
   ]
  },
  {
   "cell_type": "code",
   "execution_count": 18,
   "metadata": {},
   "outputs": [
    {
     "data": {
      "text/plain": [
       "1.973720822383676"
      ]
     },
     "execution_count": 18,
     "metadata": {},
     "output_type": "execute_result"
    }
   ],
   "source": [
    "df['Salary'].value_counts().mean()"
   ]
  },
  {
   "cell_type": "code",
   "execution_count": 22,
   "metadata": {},
   "outputs": [
    {
     "data": {
      "text/plain": [
       "Recreation Instructor       593\n",
       "Police Officer 1st Grade    581\n",
       "Deputy Sheriff              503\n",
       "Election Judges             435\n",
       "Lifeguard                   331\n",
       "Name: Position, dtype: int64"
      ]
     },
     "execution_count": 22,
     "metadata": {},
     "output_type": "execute_result"
    }
   ],
   "source": [
    "df['Position'].value_counts().head(5)"
   ]
  },
  {
   "cell_type": "code",
   "execution_count": null,
   "metadata": {
    "collapsed": true
   },
   "outputs": [],
   "source": []
  }
 ],
 "metadata": {
  "kernelspec": {
   "display_name": "Python 3",
   "language": "python",
   "name": "python3"
  },
  "language_info": {
   "codemirror_mode": {
    "name": "ipython",
    "version": 3
   },
   "file_extension": ".py",
   "mimetype": "text/x-python",
   "name": "python",
   "nbconvert_exporter": "python",
   "pygments_lexer": "ipython3",
   "version": "3.6.1"
  }
 },
 "nbformat": 4,
 "nbformat_minor": 2
}
